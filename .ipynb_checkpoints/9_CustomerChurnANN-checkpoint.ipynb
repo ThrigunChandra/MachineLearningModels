{
 "cells": [
  {
   "cell_type": "code",
   "execution_count": 1,
   "id": "886b9573-2da5-4bea-a4bc-4f09e21e1cb8",
   "metadata": {},
   "outputs": [],
   "source": [
    "import torch\n",
    "import torch.nn as nn\n",
    "import torch.optim as optim\n",
    "from torch.utils.data import TensorDataset, DataLoader"
   ]
  },
  {
   "cell_type": "code",
   "execution_count": 2,
   "id": "a1e15497-3bd2-424e-b6cd-1baafa1091ab",
   "metadata": {},
   "outputs": [],
   "source": [
    "from sklearn.preprocessing import StandardScaler, LabelEncoder, OneHotEncoder\n",
    "from sklearn.model_selection import train_test_split"
   ]
  },
  {
   "cell_type": "code",
   "execution_count": 3,
   "id": "7ed173ca-c1c9-42f9-948e-dca5481205c7",
   "metadata": {},
   "outputs": [],
   "source": [
    "import pandas as pd"
   ]
  },
  {
   "cell_type": "code",
   "execution_count": 4,
   "id": "759260a2-681b-4110-9e57-e3db40ca147c",
   "metadata": {},
   "outputs": [
    {
     "data": {
      "text/html": [
       "<div>\n",
       "<style scoped>\n",
       "    .dataframe tbody tr th:only-of-type {\n",
       "        vertical-align: middle;\n",
       "    }\n",
       "\n",
       "    .dataframe tbody tr th {\n",
       "        vertical-align: top;\n",
       "    }\n",
       "\n",
       "    .dataframe thead th {\n",
       "        text-align: right;\n",
       "    }\n",
       "</style>\n",
       "<table border=\"1\" class=\"dataframe\">\n",
       "  <thead>\n",
       "    <tr style=\"text-align: right;\">\n",
       "      <th></th>\n",
       "      <th>RowNumber</th>\n",
       "      <th>CustomerId</th>\n",
       "      <th>Surname</th>\n",
       "      <th>CreditScore</th>\n",
       "      <th>Geography</th>\n",
       "      <th>Gender</th>\n",
       "      <th>Age</th>\n",
       "      <th>Tenure</th>\n",
       "      <th>Balance</th>\n",
       "      <th>NumOfProducts</th>\n",
       "      <th>HasCrCard</th>\n",
       "      <th>IsActiveMember</th>\n",
       "      <th>EstimatedSalary</th>\n",
       "      <th>Exited</th>\n",
       "    </tr>\n",
       "  </thead>\n",
       "  <tbody>\n",
       "    <tr>\n",
       "      <th>0</th>\n",
       "      <td>1</td>\n",
       "      <td>15634602</td>\n",
       "      <td>Hargrave</td>\n",
       "      <td>619</td>\n",
       "      <td>France</td>\n",
       "      <td>Female</td>\n",
       "      <td>42</td>\n",
       "      <td>2</td>\n",
       "      <td>0.00</td>\n",
       "      <td>1</td>\n",
       "      <td>1</td>\n",
       "      <td>1</td>\n",
       "      <td>101348.88</td>\n",
       "      <td>1</td>\n",
       "    </tr>\n",
       "    <tr>\n",
       "      <th>1</th>\n",
       "      <td>2</td>\n",
       "      <td>15647311</td>\n",
       "      <td>Hill</td>\n",
       "      <td>608</td>\n",
       "      <td>Spain</td>\n",
       "      <td>Female</td>\n",
       "      <td>41</td>\n",
       "      <td>1</td>\n",
       "      <td>83807.86</td>\n",
       "      <td>1</td>\n",
       "      <td>0</td>\n",
       "      <td>1</td>\n",
       "      <td>112542.58</td>\n",
       "      <td>0</td>\n",
       "    </tr>\n",
       "    <tr>\n",
       "      <th>2</th>\n",
       "      <td>3</td>\n",
       "      <td>15619304</td>\n",
       "      <td>Onio</td>\n",
       "      <td>502</td>\n",
       "      <td>France</td>\n",
       "      <td>Female</td>\n",
       "      <td>42</td>\n",
       "      <td>8</td>\n",
       "      <td>159660.80</td>\n",
       "      <td>3</td>\n",
       "      <td>1</td>\n",
       "      <td>0</td>\n",
       "      <td>113931.57</td>\n",
       "      <td>1</td>\n",
       "    </tr>\n",
       "    <tr>\n",
       "      <th>3</th>\n",
       "      <td>4</td>\n",
       "      <td>15701354</td>\n",
       "      <td>Boni</td>\n",
       "      <td>699</td>\n",
       "      <td>France</td>\n",
       "      <td>Female</td>\n",
       "      <td>39</td>\n",
       "      <td>1</td>\n",
       "      <td>0.00</td>\n",
       "      <td>2</td>\n",
       "      <td>0</td>\n",
       "      <td>0</td>\n",
       "      <td>93826.63</td>\n",
       "      <td>0</td>\n",
       "    </tr>\n",
       "    <tr>\n",
       "      <th>4</th>\n",
       "      <td>5</td>\n",
       "      <td>15737888</td>\n",
       "      <td>Mitchell</td>\n",
       "      <td>850</td>\n",
       "      <td>Spain</td>\n",
       "      <td>Female</td>\n",
       "      <td>43</td>\n",
       "      <td>2</td>\n",
       "      <td>125510.82</td>\n",
       "      <td>1</td>\n",
       "      <td>1</td>\n",
       "      <td>1</td>\n",
       "      <td>79084.10</td>\n",
       "      <td>0</td>\n",
       "    </tr>\n",
       "  </tbody>\n",
       "</table>\n",
       "</div>"
      ],
      "text/plain": [
       "   RowNumber  CustomerId   Surname  CreditScore Geography  Gender  Age  \\\n",
       "0          1    15634602  Hargrave          619    France  Female   42   \n",
       "1          2    15647311      Hill          608     Spain  Female   41   \n",
       "2          3    15619304      Onio          502    France  Female   42   \n",
       "3          4    15701354      Boni          699    France  Female   39   \n",
       "4          5    15737888  Mitchell          850     Spain  Female   43   \n",
       "\n",
       "   Tenure    Balance  NumOfProducts  HasCrCard  IsActiveMember  \\\n",
       "0       2       0.00              1          1               1   \n",
       "1       1   83807.86              1          0               1   \n",
       "2       8  159660.80              3          1               0   \n",
       "3       1       0.00              2          0               0   \n",
       "4       2  125510.82              1          1               1   \n",
       "\n",
       "   EstimatedSalary  Exited  \n",
       "0        101348.88       1  \n",
       "1        112542.58       0  \n",
       "2        113931.57       1  \n",
       "3         93826.63       0  \n",
       "4         79084.10       0  "
      ]
     },
     "execution_count": 4,
     "metadata": {},
     "output_type": "execute_result"
    }
   ],
   "source": [
    "df = pd.read_csv('CSV Files/9_churnML.csv')\n",
    "df.head()"
   ]
  },
  {
   "cell_type": "code",
   "execution_count": 5,
   "id": "443893a9-f8ac-44d6-bcea-3236d592414a",
   "metadata": {},
   "outputs": [],
   "source": [
    "X = df.drop(columns=['CustomerId', 'Surname', 'Exited'])\n",
    "y = df['Exited']"
   ]
  },
  {
   "cell_type": "code",
   "execution_count": 6,
   "id": "6d72be66-a547-4f52-9af9-f06652891823",
   "metadata": {},
   "outputs": [],
   "source": [
    "categorical_cols = ['Geography', 'Gender']\n",
    "binary_cols = ['HasCrCard', 'IsActiveMember', 'NumOfProducts']\n",
    "scale_cols = ['CreditScore', 'Balance', 'EstimatedSalary']\n",
    "bin_cols = ['Age']"
   ]
  },
  {
   "cell_type": "code",
   "execution_count": 7,
   "id": "4134de5a-b2c2-4de8-922b-db3e1a7252a4",
   "metadata": {},
   "outputs": [],
   "source": [
    "from sklearn.preprocessing import KBinsDiscretizer\n",
    "from sklearn.compose import ColumnTransformer\n",
    "from sklearn.pipeline import Pipeline"
   ]
  },
  {
   "cell_type": "code",
   "execution_count": 8,
   "id": "57c67f54-de04-4d63-aa5e-825ecf5f8489",
   "metadata": {},
   "outputs": [],
   "source": [
    "preprocessor = ColumnTransformer(\n",
    "    transformers=[\n",
    "        (\"cat\", OneHotEncoder(), categorical_cols),\n",
    "        (\"scale\", StandardScaler(), scale_cols),\n",
    "        (\"bin_age\", KBinsDiscretizer(n_bins=5, encode='ordinal', strategy='kmeans'), bin_cols),\n",
    "        ('binary', 'passthrough', binary_cols),\n",
    "    ]\n",
    ")"
   ]
  },
  {
   "cell_type": "code",
   "execution_count": 9,
   "id": "8a3971c3-e1d5-48c6-b6f1-73e805374011",
   "metadata": {},
   "outputs": [],
   "source": [
    "X_train, X_test, y_train, y_test = train_test_split(X, y, test_size=0.2, random_state=42, stratify=y)"
   ]
  },
  {
   "cell_type": "code",
   "execution_count": 10,
   "id": "a2aafce1-9da8-4bcd-bfed-577a8c25b358",
   "metadata": {},
   "outputs": [],
   "source": [
    "X_train = preprocessor.fit_transform(X_train)\n",
    "X_test = preprocessor.transform(X_test)"
   ]
  },
  {
   "cell_type": "code",
   "execution_count": 11,
   "id": "b2fe8a2d-c740-4463-be8c-20b24ceabad1",
   "metadata": {},
   "outputs": [],
   "source": [
    "import torch \n",
    "import numpy as np"
   ]
  },
  {
   "cell_type": "code",
   "execution_count": 12,
   "id": "2bc2cd89-afd9-4bbb-a150-fde27ac2e093",
   "metadata": {},
   "outputs": [],
   "source": [
    "X_trainTensor = torch.tensor(X_train, dtype=torch.float32)\n",
    "y_trainTensor = torch.tensor(y_train.values, dtype=torch.float32).view(-1, 1)\n",
    "\n",
    "X_testTensor = torch.tensor(X_test, dtype=torch.float32)\n",
    "y_testTensor = torch.tensor(y_test.values, dtype=torch.float32).view(-1, 1)"
   ]
  },
  {
   "cell_type": "code",
   "execution_count": 13,
   "id": "3d4be9d7-a4fb-465a-8fe4-aceb18ebfc13",
   "metadata": {},
   "outputs": [],
   "source": [
    "from torch.utils.data import TensorDataset, DataLoader\n",
    "\n",
    "train_dataset = TensorDataset(X_trainTensor, y_trainTensor)\n",
    "train_loader = DataLoader(train_dataset, batch_size=32, shuffle=True)"
   ]
  },
  {
   "cell_type": "code",
   "execution_count": 14,
   "id": "c6677caa-b0a9-4626-bbd4-b3efba281c5f",
   "metadata": {},
   "outputs": [],
   "source": [
    "import torch.nn as nn\n",
    "\n",
    "class ANN(nn.Module):\n",
    "    def __init__(self, input_dim):\n",
    "        super(ANN, self).__init__()\n",
    "        self.fc1 = nn.Linear(input_dim, 16)\n",
    "        self.relu = nn.ReLU()\n",
    "        self.fc2 = nn.Linear(16, 1)\n",
    "        self.sigmoid = nn.Sigmoid()\n",
    "    def forward(self, x):\n",
    "        out = self.fc1(x)\n",
    "        out = self.relu(out)\n",
    "        out = self.fc2(out)\n",
    "        out = self.sigmoid(out)\n",
    "        return out\n",
    "model = ANN(X_train.shape[1])"
   ]
  },
  {
   "cell_type": "code",
   "execution_count": 15,
   "id": "c945c04e-e1b1-4421-824a-17118f60b949",
   "metadata": {},
   "outputs": [],
   "source": [
    "import torch.optim as optim\n",
    "\n",
    "criterion = nn.BCELoss()  # binary cross-entropy\n",
    "optimizer = optim.Adam(model.parameters(), lr=0.001)\n"
   ]
  },
  {
   "cell_type": "code",
   "execution_count": 16,
   "id": "8d53f497-16c3-4bf5-b38f-f5cc2dc8ffd7",
   "metadata": {},
   "outputs": [
    {
     "name": "stdout",
     "output_type": "stream",
     "text": [
      "Epoch [1/20], Loss: 0.4904\n",
      "Epoch [2/20], Loss: 0.3543\n",
      "Epoch [3/20], Loss: 0.3872\n",
      "Epoch [4/20], Loss: 0.2835\n",
      "Epoch [5/20], Loss: 0.3408\n",
      "Epoch [6/20], Loss: 0.4421\n",
      "Epoch [7/20], Loss: 0.2504\n",
      "Epoch [8/20], Loss: 0.3280\n",
      "Epoch [9/20], Loss: 0.3136\n",
      "Epoch [10/20], Loss: 0.3888\n",
      "Epoch [11/20], Loss: 0.3307\n",
      "Epoch [12/20], Loss: 0.4029\n",
      "Epoch [13/20], Loss: 0.2079\n",
      "Epoch [14/20], Loss: 0.2425\n",
      "Epoch [15/20], Loss: 0.3229\n",
      "Epoch [16/20], Loss: 0.4883\n",
      "Epoch [17/20], Loss: 0.2182\n",
      "Epoch [18/20], Loss: 0.4606\n",
      "Epoch [19/20], Loss: 0.4569\n",
      "Epoch [20/20], Loss: 0.2760\n"
     ]
    }
   ],
   "source": [
    "epochs = 20\n",
    "\n",
    "for epoch in range(epochs):\n",
    "    for batch_X, batch_y in train_loader:\n",
    "        # Forward pass\n",
    "        outputs = model(batch_X)\n",
    "        loss = criterion(outputs, batch_y)\n",
    "        \n",
    "        # Backward pass\n",
    "        optimizer.zero_grad()\n",
    "        loss.backward()\n",
    "        optimizer.step()\n",
    "    \n",
    "    print(f\"Epoch [{epoch+1}/{epochs}], Loss: {loss.item():.4f}\")"
   ]
  },
  {
   "cell_type": "code",
   "execution_count": 17,
   "id": "87193ecc-e54f-4415-875b-42abe615dcfb",
   "metadata": {},
   "outputs": [
    {
     "name": "stdout",
     "output_type": "stream",
     "text": [
      "Accuracy: 0.8335\n",
      "Precision: 0.7056\n",
      "Recall: 0.3120\n",
      "F1 Score: 0.4327\n"
     ]
    }
   ],
   "source": [
    "with torch.no_grad():\n",
    "    y_pred = model(X_testTensor)\n",
    "    y_pred_cls = (y_pred >= 0.5).float()\n",
    "    \n",
    "    from sklearn.metrics import accuracy_score, precision_score, recall_score, f1_score\n",
    "    \n",
    "    acc = accuracy_score(y_testTensor, y_pred_cls)\n",
    "    prec = precision_score(y_testTensor, y_pred_cls)\n",
    "    rec = recall_score(y_testTensor, y_pred_cls)\n",
    "    f1 = f1_score(y_testTensor, y_pred_cls)\n",
    "    \n",
    "    print(f\"Accuracy: {acc:.4f}\")\n",
    "    print(f\"Precision: {prec:.4f}\")\n",
    "    print(f\"Recall: {rec:.4f}\")\n",
    "    print(f\"F1 Score: {f1:.4f}\")\n"
   ]
  },
  {
   "cell_type": "code",
   "execution_count": 19,
   "id": "4db86449-7955-43f7-ab32-37d35e6662bd",
   "metadata": {},
   "outputs": [
    {
     "name": "stdout",
     "output_type": "stream",
     "text": [
      "Positive class weight: 3.91\n"
     ]
    }
   ],
   "source": [
    "num_pos = y_trainTensor.sum().item()\n",
    "num_neg = y_trainTensor.shape[0] - num_pos\n",
    "pos_weight = torch.tensor([num_neg / num_pos], dtype=torch.float32)\n",
    "print(f\"Positive class weight: {pos_weight.item():.2f}\")"
   ]
  },
  {
   "cell_type": "code",
   "execution_count": 20,
   "id": "8a0937d8-95de-4f50-8455-13b036cc4ffb",
   "metadata": {},
   "outputs": [],
   "source": [
    "class ImprovedANN(nn.Module):\n",
    "    def __init__(self, input_dim):\n",
    "        super(ImprovedANN, self).__init__()\n",
    "        self.hidden1 = nn.Linear(input_dim, 32)\n",
    "        self.hidden2 = nn.Linear(32, 16)\n",
    "        self.output = nn.Linear(16, 1)\n",
    "        self.relu = nn.ReLU()\n",
    "        self.dropout = nn.Dropout(p=0.3)\n",
    "    def forward(self, x):\n",
    "        x = self.hidden1(x)\n",
    "        x = self.relu(x)\n",
    "        x = self.dropout(x)\n",
    "        x = self.hidden2(x)\n",
    "        x = self.relu(x)\n",
    "        x = self.dropout(x)\n",
    "        x = self.output(x)\n",
    "        return x"
   ]
  },
  {
   "cell_type": "code",
   "execution_count": 23,
   "id": "1ce683d7-3b89-4de2-8233-920eecb515bf",
   "metadata": {},
   "outputs": [],
   "source": [
    "model = ImprovedANN(X_train.shape[1])\n",
    "\n",
    "criterion = nn.BCEWithLogitsLoss(pos_weight=pos_weight)\n",
    "optimizer = optim.Adam(model.parameters(), lr=0.001)"
   ]
  },
  {
   "cell_type": "code",
   "execution_count": 25,
   "id": "a88b3639-5a87-4d76-8e96-4e235ce6e44d",
   "metadata": {},
   "outputs": [
    {
     "name": "stdout",
     "output_type": "stream",
     "text": [
      "Epoch [1/30], Loss: 1.0310\n",
      "Epoch [2/30], Loss: 0.9635\n",
      "Epoch [3/30], Loss: 0.9406\n",
      "Epoch [4/30], Loss: 0.9333\n",
      "Epoch [5/30], Loss: 0.9241\n",
      "Epoch [6/30], Loss: 0.9155\n",
      "Epoch [7/30], Loss: 0.9011\n",
      "Epoch [8/30], Loss: 0.8916\n",
      "Epoch [9/30], Loss: 0.8864\n",
      "Epoch [10/30], Loss: 0.8793\n",
      "Epoch [11/30], Loss: 0.8630\n",
      "Epoch [12/30], Loss: 0.8469\n",
      "Epoch [13/30], Loss: 0.8372\n",
      "Epoch [14/30], Loss: 0.8254\n",
      "Epoch [15/30], Loss: 0.8175\n",
      "Epoch [16/30], Loss: 0.7995\n",
      "Epoch [17/30], Loss: 0.7984\n",
      "Epoch [18/30], Loss: 0.7988\n",
      "Epoch [19/30], Loss: 0.7913\n",
      "Epoch [20/30], Loss: 0.7926\n",
      "Epoch [21/30], Loss: 0.7817\n",
      "Epoch [22/30], Loss: 0.7763\n",
      "Epoch [23/30], Loss: 0.7826\n",
      "Epoch [24/30], Loss: 0.7724\n",
      "Epoch [25/30], Loss: 0.7775\n",
      "Epoch [26/30], Loss: 0.7752\n",
      "Epoch [27/30], Loss: 0.7721\n",
      "Epoch [28/30], Loss: 0.7708\n",
      "Epoch [29/30], Loss: 0.7639\n",
      "Epoch [30/30], Loss: 0.7737\n"
     ]
    }
   ],
   "source": [
    "from torch.utils.data import DataLoader, TensorDataset\n",
    "\n",
    "train_dataset = TensorDataset(X_trainTensor, y_trainTensor)\n",
    "train_loader = DataLoader(train_dataset, batch_size=32, shuffle=True)\n",
    "\n",
    "epochs = 30\n",
    "\n",
    "for epoch in range(epochs):\n",
    "    epoch_loss = 0\n",
    "    for batch_X, batch_y in train_loader:\n",
    "        optimizer.zero_grad()\n",
    "        outputs = model(batch_X)\n",
    "        loss = criterion(outputs, batch_y)\n",
    "        loss.backward()\n",
    "        optimizer.step()\n",
    "        epoch_loss += loss.item()\n",
    "    print(f\"Epoch [{epoch+1}/{epochs}], Loss: {epoch_loss/len(train_loader):.4f}\")\n"
   ]
  },
  {
   "cell_type": "code",
   "execution_count": 27,
   "id": "4787584d-7d4c-4dde-a238-f7e525f18901",
   "metadata": {},
   "outputs": [
    {
     "name": "stdout",
     "output_type": "stream",
     "text": [
      "Accuracy: 0.6935\n",
      "Precision: 0.3850\n",
      "Recall: 0.8477\n",
      "F1 Score: 0.5295\n"
     ]
    }
   ],
   "source": [
    "import torch\n",
    "from sklearn.metrics import accuracy_score, precision_score, recall_score, f1_score\n",
    "\n",
    "with torch.no_grad():\n",
    "    logits = model(X_testTensor)\n",
    "    probs = torch.sigmoid(logits)  # convert logits to probabilities\n",
    "    \n",
    "    # Optional: change threshold to improve recall\n",
    "    threshold = 0.4\n",
    "    y_pred_cls = (probs >= threshold).float()\n",
    "    \n",
    "    acc = accuracy_score(y_testTensor, y_pred_cls)\n",
    "    prec = precision_score(y_testTensor, y_pred_cls)\n",
    "    rec = recall_score(y_testTensor, y_pred_cls)\n",
    "    f1 = f1_score(y_testTensor, y_pred_cls)\n",
    "    \n",
    "    print(f\"Accuracy: {acc:.4f}\")\n",
    "    print(f\"Precision: {prec:.4f}\")\n",
    "    print(f\"Recall: {rec:.4f}\")\n",
    "    print(f\"F1 Score: {f1:.4f}\")\n"
   ]
  },
  {
   "cell_type": "code",
   "execution_count": null,
   "id": "1642205f-1665-49e6-ae84-3e2606ce2e93",
   "metadata": {},
   "outputs": [],
   "source": []
  }
 ],
 "metadata": {
  "kernelspec": {
   "display_name": "Python 3 (ipykernel)",
   "language": "python",
   "name": "python3"
  },
  "language_info": {
   "codemirror_mode": {
    "name": "ipython",
    "version": 3
   },
   "file_extension": ".py",
   "mimetype": "text/x-python",
   "name": "python",
   "nbconvert_exporter": "python",
   "pygments_lexer": "ipython3",
   "version": "3.12.1"
  }
 },
 "nbformat": 4,
 "nbformat_minor": 5
}
