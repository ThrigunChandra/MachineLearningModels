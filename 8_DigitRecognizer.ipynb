{
 "cells": [
  {
   "cell_type": "code",
   "execution_count": 1,
   "id": "70f417cf-9935-4492-89bb-4b43408630f0",
   "metadata": {},
   "outputs": [],
   "source": [
    "import numpy as np \n",
    "import pandas as pd\n",
    "import matplotlib.pyplot as plt"
   ]
  },
  {
   "cell_type": "code",
   "execution_count": 2,
   "id": "33c35643-e720-497f-b146-990b5c7c6e1b",
   "metadata": {},
   "outputs": [],
   "source": [
    "df = pd.read_csv(\"CSV Files/8_train.csv\")"
   ]
  },
  {
   "cell_type": "code",
   "execution_count": 3,
   "id": "1927a8bd-ad77-4aa5-8acc-2d855af5e20f",
   "metadata": {},
   "outputs": [
    {
     "data": {
      "text/html": [
       "<div>\n",
       "<style scoped>\n",
       "    .dataframe tbody tr th:only-of-type {\n",
       "        vertical-align: middle;\n",
       "    }\n",
       "\n",
       "    .dataframe tbody tr th {\n",
       "        vertical-align: top;\n",
       "    }\n",
       "\n",
       "    .dataframe thead th {\n",
       "        text-align: right;\n",
       "    }\n",
       "</style>\n",
       "<table border=\"1\" class=\"dataframe\">\n",
       "  <thead>\n",
       "    <tr style=\"text-align: right;\">\n",
       "      <th></th>\n",
       "      <th>label</th>\n",
       "      <th>pixel0</th>\n",
       "      <th>pixel1</th>\n",
       "      <th>pixel2</th>\n",
       "      <th>pixel3</th>\n",
       "      <th>pixel4</th>\n",
       "      <th>pixel5</th>\n",
       "      <th>pixel6</th>\n",
       "      <th>pixel7</th>\n",
       "      <th>pixel8</th>\n",
       "      <th>...</th>\n",
       "      <th>pixel774</th>\n",
       "      <th>pixel775</th>\n",
       "      <th>pixel776</th>\n",
       "      <th>pixel777</th>\n",
       "      <th>pixel778</th>\n",
       "      <th>pixel779</th>\n",
       "      <th>pixel780</th>\n",
       "      <th>pixel781</th>\n",
       "      <th>pixel782</th>\n",
       "      <th>pixel783</th>\n",
       "    </tr>\n",
       "  </thead>\n",
       "  <tbody>\n",
       "    <tr>\n",
       "      <th>41995</th>\n",
       "      <td>0</td>\n",
       "      <td>0</td>\n",
       "      <td>0</td>\n",
       "      <td>0</td>\n",
       "      <td>0</td>\n",
       "      <td>0</td>\n",
       "      <td>0</td>\n",
       "      <td>0</td>\n",
       "      <td>0</td>\n",
       "      <td>0</td>\n",
       "      <td>...</td>\n",
       "      <td>0</td>\n",
       "      <td>0</td>\n",
       "      <td>0</td>\n",
       "      <td>0</td>\n",
       "      <td>0</td>\n",
       "      <td>0</td>\n",
       "      <td>0</td>\n",
       "      <td>0</td>\n",
       "      <td>0</td>\n",
       "      <td>0</td>\n",
       "    </tr>\n",
       "    <tr>\n",
       "      <th>41996</th>\n",
       "      <td>1</td>\n",
       "      <td>0</td>\n",
       "      <td>0</td>\n",
       "      <td>0</td>\n",
       "      <td>0</td>\n",
       "      <td>0</td>\n",
       "      <td>0</td>\n",
       "      <td>0</td>\n",
       "      <td>0</td>\n",
       "      <td>0</td>\n",
       "      <td>...</td>\n",
       "      <td>0</td>\n",
       "      <td>0</td>\n",
       "      <td>0</td>\n",
       "      <td>0</td>\n",
       "      <td>0</td>\n",
       "      <td>0</td>\n",
       "      <td>0</td>\n",
       "      <td>0</td>\n",
       "      <td>0</td>\n",
       "      <td>0</td>\n",
       "    </tr>\n",
       "    <tr>\n",
       "      <th>41997</th>\n",
       "      <td>7</td>\n",
       "      <td>0</td>\n",
       "      <td>0</td>\n",
       "      <td>0</td>\n",
       "      <td>0</td>\n",
       "      <td>0</td>\n",
       "      <td>0</td>\n",
       "      <td>0</td>\n",
       "      <td>0</td>\n",
       "      <td>0</td>\n",
       "      <td>...</td>\n",
       "      <td>0</td>\n",
       "      <td>0</td>\n",
       "      <td>0</td>\n",
       "      <td>0</td>\n",
       "      <td>0</td>\n",
       "      <td>0</td>\n",
       "      <td>0</td>\n",
       "      <td>0</td>\n",
       "      <td>0</td>\n",
       "      <td>0</td>\n",
       "    </tr>\n",
       "    <tr>\n",
       "      <th>41998</th>\n",
       "      <td>6</td>\n",
       "      <td>0</td>\n",
       "      <td>0</td>\n",
       "      <td>0</td>\n",
       "      <td>0</td>\n",
       "      <td>0</td>\n",
       "      <td>0</td>\n",
       "      <td>0</td>\n",
       "      <td>0</td>\n",
       "      <td>0</td>\n",
       "      <td>...</td>\n",
       "      <td>0</td>\n",
       "      <td>0</td>\n",
       "      <td>0</td>\n",
       "      <td>0</td>\n",
       "      <td>0</td>\n",
       "      <td>0</td>\n",
       "      <td>0</td>\n",
       "      <td>0</td>\n",
       "      <td>0</td>\n",
       "      <td>0</td>\n",
       "    </tr>\n",
       "    <tr>\n",
       "      <th>41999</th>\n",
       "      <td>9</td>\n",
       "      <td>0</td>\n",
       "      <td>0</td>\n",
       "      <td>0</td>\n",
       "      <td>0</td>\n",
       "      <td>0</td>\n",
       "      <td>0</td>\n",
       "      <td>0</td>\n",
       "      <td>0</td>\n",
       "      <td>0</td>\n",
       "      <td>...</td>\n",
       "      <td>0</td>\n",
       "      <td>0</td>\n",
       "      <td>0</td>\n",
       "      <td>0</td>\n",
       "      <td>0</td>\n",
       "      <td>0</td>\n",
       "      <td>0</td>\n",
       "      <td>0</td>\n",
       "      <td>0</td>\n",
       "      <td>0</td>\n",
       "    </tr>\n",
       "  </tbody>\n",
       "</table>\n",
       "<p>5 rows × 785 columns</p>\n",
       "</div>"
      ],
      "text/plain": [
       "       label  pixel0  pixel1  pixel2  pixel3  pixel4  pixel5  pixel6  pixel7  \\\n",
       "41995      0       0       0       0       0       0       0       0       0   \n",
       "41996      1       0       0       0       0       0       0       0       0   \n",
       "41997      7       0       0       0       0       0       0       0       0   \n",
       "41998      6       0       0       0       0       0       0       0       0   \n",
       "41999      9       0       0       0       0       0       0       0       0   \n",
       "\n",
       "       pixel8  ...  pixel774  pixel775  pixel776  pixel777  pixel778  \\\n",
       "41995       0  ...         0         0         0         0         0   \n",
       "41996       0  ...         0         0         0         0         0   \n",
       "41997       0  ...         0         0         0         0         0   \n",
       "41998       0  ...         0         0         0         0         0   \n",
       "41999       0  ...         0         0         0         0         0   \n",
       "\n",
       "       pixel779  pixel780  pixel781  pixel782  pixel783  \n",
       "41995         0         0         0         0         0  \n",
       "41996         0         0         0         0         0  \n",
       "41997         0         0         0         0         0  \n",
       "41998         0         0         0         0         0  \n",
       "41999         0         0         0         0         0  \n",
       "\n",
       "[5 rows x 785 columns]"
      ]
     },
     "execution_count": 3,
     "metadata": {},
     "output_type": "execute_result"
    }
   ],
   "source": [
    "df.tail()"
   ]
  },
  {
   "cell_type": "code",
   "execution_count": 4,
   "id": "331346bc-8b8e-4397-81c5-ea0401e7cf4c",
   "metadata": {},
   "outputs": [],
   "source": [
    "data = np.array(df)\n",
    "m, n = data.shape\n",
    "\n",
    "Y_train = data.T[0]\n",
    "X_train = data.T[1:]\n",
    "X_train = X_train / 255"
   ]
  },
  {
   "cell_type": "code",
   "execution_count": 5,
   "id": "43c8fb2e-561d-4620-bbde-28b6ef502003",
   "metadata": {},
   "outputs": [
    {
     "data": {
      "text/plain": [
       "array([1, 0, 1, ..., 7, 6, 9])"
      ]
     },
     "execution_count": 5,
     "metadata": {},
     "output_type": "execute_result"
    }
   ],
   "source": [
    "Y_train"
   ]
  },
  {
   "cell_type": "code",
   "execution_count": 6,
   "id": "4bae7f6d-0c8d-4559-8107-f081e5439fa6",
   "metadata": {},
   "outputs": [
    {
     "data": {
      "text/plain": [
       "array([[0., 0., 0., ..., 0., 0., 0.],\n",
       "       [0., 0., 0., ..., 0., 0., 0.],\n",
       "       [0., 0., 0., ..., 0., 0., 0.],\n",
       "       ...,\n",
       "       [0., 0., 0., ..., 0., 0., 0.],\n",
       "       [0., 0., 0., ..., 0., 0., 0.],\n",
       "       [0., 0., 0., ..., 0., 0., 0.]])"
      ]
     },
     "execution_count": 6,
     "metadata": {},
     "output_type": "execute_result"
    }
   ],
   "source": [
    "X_train"
   ]
  },
  {
   "cell_type": "code",
   "execution_count": 7,
   "id": "c1e21efd-3974-468b-aab6-6382fb588433",
   "metadata": {},
   "outputs": [
    {
     "data": {
      "text/plain": [
       "(784, 42000)"
      ]
     },
     "execution_count": 7,
     "metadata": {},
     "output_type": "execute_result"
    }
   ],
   "source": [
    "X_train.shape"
   ]
  },
  {
   "cell_type": "code",
   "execution_count": 8,
   "id": "5117b27b-deed-4831-824c-ae89c35e9638",
   "metadata": {},
   "outputs": [],
   "source": [
    "def init_params():\n",
    "    w1 = np.random.randn(16, 784) * 0.01\n",
    "    b1 = np.zeros((16, 1))\n",
    "    w2 = np.random.randn(10, 16) * 0.01\n",
    "    b2 = np.zeros((10, 1))\n",
    "    return w1, b1, w2, b2\n",
    "\n",
    "def one_hot(X):\n",
    "    num_samples = len(X)\n",
    "    num_classes = max(X) + 1\n",
    "    \n",
    "    one_hot_Y = [[0 for _ in range(num_samples)] for _ in range(num_classes)]\n",
    "    for sample_index in range(num_samples):\n",
    "        label = X[sample_index]\n",
    "        one_hot_Y[label][sample_index] = 1\n",
    "    return one_hot_Y\n",
    "\n",
    "def ReLU(X):\n",
    "    return np.maximum(X, 0)\n",
    "\n",
    "def softmax(X):\n",
    "    A = np.exp(X) / sum(np.exp(X))\n",
    "    return A\n",
    "    \n",
    "def ReLU_deriv(X):\n",
    "    return X > 0"
   ]
  },
  {
   "cell_type": "code",
   "execution_count": 9,
   "id": "7d655ae7-4583-43f6-91cb-b115cfbcd99b",
   "metadata": {},
   "outputs": [],
   "source": [
    "def forward_pass(w1, b1, w2, b2, X):\n",
    "    z1 = w1.dot(X) + b1\n",
    "    a1 = ReLU(z1)\n",
    "    z2 = w2.dot(a1) + b2\n",
    "    a2 = softmax(z2)\n",
    "    return z1, a1, z2, a2\n",
    "\n",
    "def back_prop(z1, a1, z2, a2, w1, w2, X, Y):\n",
    "    one_hot_Y = one_hot(Y)\n",
    "    dz2 = a2 - one_hot_Y\n",
    "    dw2 = 1 / m * dz2.dot(a1.T)\n",
    "    db2 = 1 / m * np.sum(dz2)\n",
    "    dz1 = w2.T.dot(dz2) * ReLU_deriv(z1)\n",
    "    dw1 = 1 / m * dz1.dot(X.T)\n",
    "    db1 = 1 / m * np.sum(dz1)\n",
    "    return dw1, db1, dw2, db2\n",
    "\n",
    "def update_params(w1, b1, w2, b2, dw1, db1, dw2, db2, alpha):\n",
    "    w1 = w1 - alpha * dw1\n",
    "    w2 = w2 - alpha * dw2\n",
    "    b1 = b1 - alpha * db1\n",
    "    b2 = b2 - alpha * db2\n",
    "    return w1, b1, w2, b2"
   ]
  },
  {
   "cell_type": "code",
   "execution_count": 10,
   "id": "6a09cc7b-6427-446e-84a2-0409a69a1f9f",
   "metadata": {},
   "outputs": [],
   "source": [
    "def get_predictions(x):\n",
    "    rows = len(x)\n",
    "    cols = len(x[0])\n",
    "    res = []\n",
    "\n",
    "    for col in range(cols):\n",
    "        max_val = x[0][col]\n",
    "        max_idx = 0\n",
    "        for row in range(1, rows):\n",
    "            if max_val < x[row][col]:\n",
    "                max_val = x[row][col]\n",
    "                max_idx = row\n",
    "        res.append(max_idx)\n",
    "    return res\n",
    "\n",
    "def get_accuracy(predictions, Y):\n",
    "    return np.sum(predictions == Y) / Y.size\n",
    "\n",
    "def gradient_descent(X, Y, alpha, iterations):\n",
    "    W1, b1, W2, b2 = init_params()\n",
    "    for i in range(iterations):\n",
    "        Z1, A1, Z2, A2 = forward_pass(W1, b1, W2, b2, X)\n",
    "        dW1, db1, dW2, db2 = back_prop(Z1, A1, Z2, A2, W1, W2, X, Y)\n",
    "        W1, b1, W2, b2 = update_params(W1, b1, W2, b2, dW1, db1, dW2, db2, alpha)\n",
    "        if i % 10 == 0:\n",
    "            print(\"Iteration: \", i)\n",
    "            predictions = get_predictions(A2)\n",
    "            print(\"Accuracy: \", get_accuracy(predictions, Y))\n",
    "    return W1, b1, W2, b2"
   ]
  },
  {
   "cell_type": "code",
   "execution_count": 11,
   "id": "b6090392-28d9-4c1a-ab9c-9b63a4497a95",
   "metadata": {},
   "outputs": [
    {
     "name": "stdout",
     "output_type": "stream",
     "text": [
      "Iteration:  0\n",
      "Accuracy:  0.08240476190476191\n",
      "Iteration:  10\n",
      "Accuracy:  0.18923809523809523\n",
      "Iteration:  20\n",
      "Accuracy:  0.2144047619047619\n",
      "Iteration:  30\n",
      "Accuracy:  0.22366666666666668\n",
      "Iteration:  40\n",
      "Accuracy:  0.2007142857142857\n",
      "Iteration:  50\n",
      "Accuracy:  0.1735\n",
      "Iteration:  60\n",
      "Accuracy:  0.18742857142857142\n",
      "Iteration:  70\n",
      "Accuracy:  0.25266666666666665\n",
      "Iteration:  80\n",
      "Accuracy:  0.40254761904761904\n",
      "Iteration:  90\n",
      "Accuracy:  0.530547619047619\n",
      "Iteration:  100\n",
      "Accuracy:  0.602547619047619\n",
      "Iteration:  110\n",
      "Accuracy:  0.6510476190476191\n",
      "Iteration:  120\n",
      "Accuracy:  0.6976666666666667\n",
      "Iteration:  130\n",
      "Accuracy:  0.7305238095238096\n",
      "Iteration:  140\n",
      "Accuracy:  0.7535238095238095\n",
      "Iteration:  150\n",
      "Accuracy:  0.7718809523809523\n",
      "Iteration:  160\n",
      "Accuracy:  0.7873095238095238\n",
      "Iteration:  170\n",
      "Accuracy:  0.7993333333333333\n",
      "Iteration:  180\n",
      "Accuracy:  0.8105952380952381\n",
      "Iteration:  190\n",
      "Accuracy:  0.8205238095238095\n",
      "Iteration:  200\n",
      "Accuracy:  0.8287380952380953\n",
      "Iteration:  210\n",
      "Accuracy:  0.8358809523809524\n",
      "Iteration:  220\n",
      "Accuracy:  0.8429047619047619\n",
      "Iteration:  230\n",
      "Accuracy:  0.8481428571428572\n",
      "Iteration:  240\n",
      "Accuracy:  0.8538095238095238\n",
      "Iteration:  250\n",
      "Accuracy:  0.8586904761904762\n",
      "Iteration:  260\n",
      "Accuracy:  0.8621666666666666\n",
      "Iteration:  270\n",
      "Accuracy:  0.8657857142857143\n",
      "Iteration:  280\n",
      "Accuracy:  0.8690476190476191\n",
      "Iteration:  290\n",
      "Accuracy:  0.8723333333333333\n",
      "Iteration:  300\n",
      "Accuracy:  0.8750714285714286\n",
      "Iteration:  310\n",
      "Accuracy:  0.8773095238095238\n",
      "Iteration:  320\n",
      "Accuracy:  0.8796190476190476\n",
      "Iteration:  330\n",
      "Accuracy:  0.8813095238095238\n",
      "Iteration:  340\n",
      "Accuracy:  0.8828571428571429\n",
      "Iteration:  350\n",
      "Accuracy:  0.8842380952380953\n",
      "Iteration:  360\n",
      "Accuracy:  0.8857619047619048\n",
      "Iteration:  370\n",
      "Accuracy:  0.8868333333333334\n",
      "Iteration:  380\n",
      "Accuracy:  0.8879523809523809\n",
      "Iteration:  390\n",
      "Accuracy:  0.8892142857142857\n",
      "Iteration:  400\n",
      "Accuracy:  0.8903333333333333\n",
      "Iteration:  410\n",
      "Accuracy:  0.8916666666666667\n",
      "Iteration:  420\n",
      "Accuracy:  0.8923809523809524\n",
      "Iteration:  430\n",
      "Accuracy:  0.8932380952380953\n",
      "Iteration:  440\n",
      "Accuracy:  0.894\n",
      "Iteration:  450\n",
      "Accuracy:  0.8950714285714285\n",
      "Iteration:  460\n",
      "Accuracy:  0.8960714285714285\n",
      "Iteration:  470\n",
      "Accuracy:  0.8966428571428572\n",
      "Iteration:  480\n",
      "Accuracy:  0.8974285714285715\n",
      "Iteration:  490\n",
      "Accuracy:  0.8984047619047619\n"
     ]
    }
   ],
   "source": [
    "W1, b1, W2, b2 = gradient_descent(X_train, Y_train, 0.10, 500)"
   ]
  },
  {
   "cell_type": "code",
   "execution_count": 13,
   "id": "3ef09237-9288-4ca6-b68d-dd458a1a6de4",
   "metadata": {},
   "outputs": [],
   "source": [
    "def make_predictions(X, w1, b1, w2, b2):\n",
    "    _, _, _, a2 = forward_pass(w1, b1, w2, b2, X)\n",
    "    predictions = get_predictions(a2)\n",
    "    return predictions"
   ]
  },
  {
   "cell_type": "code",
   "execution_count": 14,
   "id": "f0631a4e-7330-438f-8e63-3d26b8bbb7cb",
   "metadata": {},
   "outputs": [],
   "source": [
    "df_test = pd.read_csv(\"CSV Files/8_test.csv\")"
   ]
  },
  {
   "cell_type": "code",
   "execution_count": 15,
   "id": "a8ae00c7-6ed8-4f37-bba1-14be9df3147c",
   "metadata": {},
   "outputs": [],
   "source": [
    "df_test = np.array(df_test)"
   ]
  },
  {
   "cell_type": "code",
   "execution_count": 21,
   "id": "3a582fbe-ed42-4738-a716-7883eb27cf52",
   "metadata": {},
   "outputs": [],
   "source": [
    "test1 = df_test[0].T / 255\n",
    "test1 = test1.reshape(test1.size, 1)"
   ]
  },
  {
   "cell_type": "code",
   "execution_count": 24,
   "id": "aea8e3a5-81d3-4d3e-949a-9831820bbff5",
   "metadata": {},
   "outputs": [],
   "source": [
    "_, _, _, a2 = forward_pass(W1, b1, W2, b2, test1)"
   ]
  },
  {
   "cell_type": "code",
   "execution_count": 30,
   "id": "b43d3045-ae39-4017-a754-edadfb6eded9",
   "metadata": {},
   "outputs": [
    {
     "data": {
      "text/plain": [
       "np.int64(2)"
      ]
     },
     "execution_count": 30,
     "metadata": {},
     "output_type": "execute_result"
    }
   ],
   "source": [
    "a2.reshape(-1)\n",
    "np.argmax(a2)"
   ]
  },
  {
   "cell_type": "code",
   "execution_count": 31,
   "id": "4a226bfc-7223-44f5-b559-437e30bdc3bf",
   "metadata": {},
   "outputs": [
    {
     "data": {
      "image/png": "[encoded data removed]",
      "text/plain": [
       "<Figure size 640x480 with 1 Axes>"
      ]
     },
     "metadata": {},
     "output_type": "display_data"
    }
   ],
   "source": [
    "current_image = df_test[0, :, None]\n",
    "current_image = current_image.reshape((28, 28))\n",
    "plt.gray()\n",
    "plt.imshow(current_image, interpolation=\"nearest\")\n",
    "plt.show()"
   ]
  },
  {
   "cell_type": "code",
   "execution_count": null,
   "id": "5b4268c0-0f92-4c69-a3a9-3c7a9f76ad72",
   "metadata": {},
   "outputs": [],
   "source": []
  }
 ],
 "metadata": {
  "kernelspec": {
   "display_name": "Python 3 (ipykernel)",
   "language": "python",
   "name": "python3"
  },
  "language_info": {
   "codemirror_mode": {
    "name": "ipython",
    "version": 3
   },
   "file_extension": ".py",
   "mimetype": "text/x-python",
   "name": "python",
   "nbconvert_exporter": "python",
   "pygments_lexer": "ipython3",
   "version": "3.12.1"
  }
 },
 "nbformat": 4,
 "nbformat_minor": 5
}
