{
 "cells": [
  {
   "cell_type": "code",
   "execution_count": 28,
   "id": "302e42df-08ac-4c57-a8ba-de92af61358c",
   "metadata": {},
   "outputs": [],
   "source": [
    "import pandas as pd\n",
    "from sklearn.model_selection import train_test_split\n",
    "from sklearn.preprocessing import StandardScaler\n",
    "from sklearn.pipeline import Pipeline\n",
    "from sklearn.linear_model import LogisticRegression\n",
    "from sklearn.svm import SVC\n",
    "from sklearn.metrics import classification_report, confusion_matrix, f1_score, accuracy_score, precision_score, recall_score, roc_auc_score"
   ]
  },
  {
   "cell_type": "code",
   "execution_count": 29,
   "id": "87b35c70-c44c-4b61-a098-57c881932b77",
   "metadata": {},
   "outputs": [],
   "source": [
    "mean1 = 55\n",
    "std_dev1 = 10\n",
    "num_samples = 500\n",
    "\n",
    "column1_numbers = np.random.normal(mean1, std_dev1, num_samples)\n",
    "column1_numbers = np.clip(column1_numbers, 30, 120)\n",
    "column1_numbers = np.round(column1_numbers).astype(int)\n",
    "\n",
    "mean2 = 18\n",
    "std_dev2 = 3\n",
    "\n",
    "column2_numbers = np.random.normal(mean2, std_dev2, num_samples)\n",
    "column2_numbers = np.clip(column2_numbers, 12, 26)\n",
    "column2_numbers = np.round(column2_numbers).astype(int)\n",
    "\n",
    "column3_numbers = np.random.randint(2, size=num_samples)\n",
    "column3_numbers[column1_numbers > mean1] = 1 \n",
    "\n",
    "data = {\n",
    "    'Miles_Per_week': column1_numbers, \n",
    "    'Farthest_run': column2_numbers,\n",
    "    'Qualified_Boston_Marathon': column3_numbers\n",
    "}\n",
    "\n",
    "df = pd.DataFrame(data)"
   ]
  },
  {
   "cell_type": "code",
   "execution_count": 30,
   "id": "c543f57b-0f73-470b-84df-0a83ba4a105d",
   "metadata": {},
   "outputs": [
    {
     "data": {
      "text/html": [
       "<div>\n",
       "<style scoped>\n",
       "    .dataframe tbody tr th:only-of-type {\n",
       "        vertical-align: middle;\n",
       "    }\n",
       "\n",
       "    .dataframe tbody tr th {\n",
       "        vertical-align: top;\n",
       "    }\n",
       "\n",
       "    .dataframe thead th {\n",
       "        text-align: right;\n",
       "    }\n",
       "</style>\n",
       "<table border=\"1\" class=\"dataframe\">\n",
       "  <thead>\n",
       "    <tr style=\"text-align: right;\">\n",
       "      <th></th>\n",
       "      <th>Miles_Per_week</th>\n",
       "      <th>Farthest_run</th>\n",
       "      <th>Qualified_Boston_Marathon</th>\n",
       "    </tr>\n",
       "  </thead>\n",
       "  <tbody>\n",
       "    <tr>\n",
       "      <th>0</th>\n",
       "      <td>81</td>\n",
       "      <td>16</td>\n",
       "      <td>1</td>\n",
       "    </tr>\n",
       "    <tr>\n",
       "      <th>1</th>\n",
       "      <td>45</td>\n",
       "      <td>17</td>\n",
       "      <td>0</td>\n",
       "    </tr>\n",
       "    <tr>\n",
       "      <th>2</th>\n",
       "      <td>44</td>\n",
       "      <td>22</td>\n",
       "      <td>1</td>\n",
       "    </tr>\n",
       "    <tr>\n",
       "      <th>3</th>\n",
       "      <td>53</td>\n",
       "      <td>19</td>\n",
       "      <td>0</td>\n",
       "    </tr>\n",
       "    <tr>\n",
       "      <th>4</th>\n",
       "      <td>53</td>\n",
       "      <td>15</td>\n",
       "      <td>1</td>\n",
       "    </tr>\n",
       "    <tr>\n",
       "      <th>...</th>\n",
       "      <td>...</td>\n",
       "      <td>...</td>\n",
       "      <td>...</td>\n",
       "    </tr>\n",
       "    <tr>\n",
       "      <th>495</th>\n",
       "      <td>60</td>\n",
       "      <td>13</td>\n",
       "      <td>1</td>\n",
       "    </tr>\n",
       "    <tr>\n",
       "      <th>496</th>\n",
       "      <td>61</td>\n",
       "      <td>13</td>\n",
       "      <td>1</td>\n",
       "    </tr>\n",
       "    <tr>\n",
       "      <th>497</th>\n",
       "      <td>53</td>\n",
       "      <td>21</td>\n",
       "      <td>1</td>\n",
       "    </tr>\n",
       "    <tr>\n",
       "      <th>498</th>\n",
       "      <td>33</td>\n",
       "      <td>20</td>\n",
       "      <td>1</td>\n",
       "    </tr>\n",
       "    <tr>\n",
       "      <th>499</th>\n",
       "      <td>62</td>\n",
       "      <td>18</td>\n",
       "      <td>1</td>\n",
       "    </tr>\n",
       "  </tbody>\n",
       "</table>\n",
       "<p>500 rows × 3 columns</p>\n",
       "</div>"
      ],
      "text/plain": [
       "     Miles_Per_week  Farthest_run  Qualified_Boston_Marathon\n",
       "0                81            16                          1\n",
       "1                45            17                          0\n",
       "2                44            22                          1\n",
       "3                53            19                          0\n",
       "4                53            15                          1\n",
       "..              ...           ...                        ...\n",
       "495              60            13                          1\n",
       "496              61            13                          1\n",
       "497              53            21                          1\n",
       "498              33            20                          1\n",
       "499              62            18                          1\n",
       "\n",
       "[500 rows x 3 columns]"
      ]
     },
     "execution_count": 30,
     "metadata": {},
     "output_type": "execute_result"
    }
   ],
   "source": [
    "df"
   ]
  },
  {
   "cell_type": "code",
   "execution_count": 31,
   "id": "71189ad9-3461-4d6b-85d1-f0fd83331eb3",
   "metadata": {},
   "outputs": [],
   "source": [
    "X = df.iloc[:, 0:2]"
   ]
  },
  {
   "cell_type": "code",
   "execution_count": 32,
   "id": "65fab547-0f89-4f4f-8e8b-05d65dcb37a9",
   "metadata": {},
   "outputs": [],
   "source": [
    "y = df.iloc[:, 2]"
   ]
  },
  {
   "cell_type": "code",
   "execution_count": 33,
   "id": "19dcf31f-0191-44b2-bdcf-6468f351944c",
   "metadata": {},
   "outputs": [],
   "source": [
    "X_train, X_test, y_train, y_test = train_test_split(X, y, test_size=0.2, random_state=42)"
   ]
  },
  {
   "cell_type": "code",
   "execution_count": 34,
   "id": "f18ae149-fe0a-4198-a087-73919e41dcdd",
   "metadata": {},
   "outputs": [],
   "source": [
    "logreg_pipeline = Pipeline([\n",
    "    ('scaler', StandardScaler()),\n",
    "    ('logreg', LogisticRegression())\n",
    "])"
   ]
  },
  {
   "cell_type": "code",
   "execution_count": 35,
   "id": "e18c6ce4-9ceb-4a9e-b105-5a4c94180102",
   "metadata": {},
   "outputs": [],
   "source": [
    "svm_pipeline = Pipeline([\n",
    "    ('scaler', StandardScaler()),\n",
    "    ('svm', SVC(kernel='rbf'))\n",
    "])"
   ]
  },
  {
   "cell_type": "code",
   "execution_count": 36,
   "id": "0879b0db-8779-4b6b-bcb8-f709143dccfc",
   "metadata": {},
   "outputs": [],
   "source": [
    "models = {\n",
    "    \"Logistic Regression\": logreg_pipeline,\n",
    "    \"SVM\": svm_pipeline\n",
    "}"
   ]
  },
  {
   "cell_type": "code",
   "execution_count": 41,
   "id": "2da537b7-0203-437f-a93d-d8eca230257a",
   "metadata": {},
   "outputs": [
    {
     "name": "stdout",
     "output_type": "stream",
     "text": [
      "Model: Logistic Regression\n",
      "Accuracy:  0.78\n",
      "Precision:  0.8414634146341463\n",
      "Recall:  0.8846153846153846\n",
      "F1 Score:  0.8625\n",
      "Confusion Matrix:  [[ 9 13]\n",
      " [ 9 69]]\n",
      "Classification Report:                precision    recall  f1-score   support\n",
      "\n",
      "           0       0.50      0.41      0.45        22\n",
      "           1       0.84      0.88      0.86        78\n",
      "\n",
      "    accuracy                           0.78       100\n",
      "   macro avg       0.67      0.65      0.66       100\n",
      "weighted avg       0.77      0.78      0.77       100\n",
      "\n",
      "Model: SVM\n",
      "Accuracy:  0.74\n",
      "Precision:  0.8513513513513513\n",
      "Recall:  0.8076923076923077\n",
      "F1 Score:  0.8289473684210527\n",
      "Confusion Matrix:  [[11 11]\n",
      " [15 63]]\n",
      "Classification Report:                precision    recall  f1-score   support\n",
      "\n",
      "           0       0.42      0.50      0.46        22\n",
      "           1       0.85      0.81      0.83        78\n",
      "\n",
      "    accuracy                           0.74       100\n",
      "   macro avg       0.64      0.65      0.64       100\n",
      "weighted avg       0.76      0.74      0.75       100\n",
      "\n"
     ]
    }
   ],
   "source": [
    "for name, model in models.items():\n",
    "    print(f\"Model: {name}\")\n",
    "\n",
    "    model.fit(X_train, y_train)\n",
    "    y_pred = model.predict(X_test)\n",
    "\n",
    "    print(\"Accuracy: \", accuracy_score(y_test, y_pred))\n",
    "    print(\"Precision: \", precision_score(y_test, y_pred))\n",
    "    print(\"Recall: \", recall_score(y_test, y_pred))\n",
    "    print(\"F1 Score: \", f1_score(y_test, y_pred))\n",
    "    \n",
    "    print(\"Confusion Matrix: \", confusion_matrix(y_test, y_pred))\n",
    "    print(\"Classification Report: \", classification_report(y_test, y_pred))"
   ]
  },
  {
   "cell_type": "code",
   "execution_count": null,
   "id": "8781a2a4-dc6f-42d3-8d3a-3d665dd2465e",
   "metadata": {},
   "outputs": [],
   "source": []
  }
 ],
 "metadata": {
  "kernelspec": {
   "display_name": "Python 3 (ipykernel)",
   "language": "python",
   "name": "python3"
  },
  "language_info": {
   "codemirror_mode": {
    "name": "ipython",
    "version": 3
   },
   "file_extension": ".py",
   "mimetype": "text/x-python",
   "name": "python",
   "nbconvert_exporter": "python",
   "pygments_lexer": "ipython3",
   "version": "3.12.1"
  }
 },
 "nbformat": 4,
 "nbformat_minor": 5
}
